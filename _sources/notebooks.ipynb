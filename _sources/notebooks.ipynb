{
 "cells": [
  {
   "cell_type": "markdown",
   "metadata": {},
   "source": [
    "\n",
    "# <font color=purple>**Functies en grafieken**</font>\n",
    "\n",
    "<div class=\"alert alert-block alert-info\">\n",
    "    \n",
    "**Wat leer je?**\n",
    "* Opstellen van de formule van een lijn waarvan twee punten zijn gegeven. \n",
    "* Extreme waarden berekenen bij tweedegraadsfuncties. \n",
    "* Tweedegraadsvergelijkingen oplossen.\n",
    "* Werken met functies en vergelijkingen met een parameter.\n",
    "* De begrippen domein, bereik en modulus.\n",
    "* Hoe je met de grafische rekenmachine vergelijkingen en ongelijkheden oplost en extreme waarden berekent.\n",
    "\n",
    "## <font color=purple>**Beginopdracht**</font> Waaiers parabolen\n",
    "\n",
    "Bij het spuiten met een tuinslang, bij fonteinen en bij het blussen van een\n",
    "brand door de brandweer zie je waterstralen. Hoe hoog en hoe ver die\n",
    "komen hangt af van de druk van het water en onder welke hoek het water\n",
    "de spuitmond verlaat. Als we aannemen dat de waterstraal de paraboolvorm\n",
    "heeft, dan kunnen we bijvoorbeeld berekenen waar de toppen van de\n",
    "parabolen liggen als de hoek hetzelfde blijft en we de druk variëren.\n",
    "\n",
    "Bij de volgende vragen ga je onderzoeken waar de\n",
    "toppen van de bergparabolen liggen die onder dezelfde\n",
    "hoek door de oorsprong gaan. In de figuur hiernaast zie\n",
    "je enkele van deze parabolen.\n",
    "De algemene formule van de parabolen die onder een\n",
    "hoek van ongeveer 76° door de oorsprong gaan is $y=ax^2 + 4x$.\n",
    "\n",
    " </div>\n"
   ]
  },
  {
   "cell_type": "code",
   "execution_count": 1,
   "metadata": {
    "tags": [
     "remove-input"
    ]
   },
   "outputs": [
    {
     "data": {
      "application/vnd.jupyter.widget-view+json": {
       "model_id": "32609592e7094648880eaaadb76f08c3",
       "version_major": 2,
       "version_minor": 0
      },
      "text/plain": [
       "interactive(children=(IntSlider(value=-1, description='a', max=-1, min=-8, style=SliderStyle(handle_color='ora…"
      ]
     },
     "metadata": {},
     "output_type": "display_data"
    }
   ],
   "source": [
    "from ipywidgets import *\n",
    "#from functies_en_grafieken import updatetest\n",
    "\n",
    "from matplotlib import pyplot as plt\n",
    "from mpl_toolkits.mplot3d import Axes3D\n",
    "import numpy as np\n",
    "from scipy import integrate\n",
    "\n",
    "\n",
    "def updatetest(a = -1.0):\n",
    "    x = np.linspace(0, 4, 100)\n",
    "    y = a*(x**2) + 4*x\n",
    "    \n",
    "    size = 5\n",
    "    fig, ax = plt.subplots(figsize=(size, size))\n",
    "    ax.set_xlim((0, 5))\n",
    "    ax.set_ylim((0, 6))\n",
    "    ax.spines['left'].set_linewidth(2)\n",
    "    ax.spines['bottom'].set_linewidth(2)\n",
    "    ax.spines['right'].set_visible(False)\n",
    "    ax.spines['top'].set_visible(False)\n",
    "    ax.plot(x, y, 'r-', linewidth=2)\n",
    "    ax.set_xlabel('x', fontsize=18, loc='right')\n",
    "    ax.set_ylabel('y', fontsize=18, rotation=0, loc='top')\n",
    "    ax.set_xticks([])\n",
    "    ax.set_yticks([])\n",
    "    ax.set_title('Parabool', fontsize=24)\n",
    "\n",
    "    \n",
    "\n",
    "a_slider = IntSlider(min=-8, max=-1, step=1, value=-1)\n",
    "a_slider.style.handle_color = 'orange'\n",
    "slider = interactive(updatetest, a=a_slider)\n",
    "\n",
    "display(slider)"
   ]
  },
  {
   "cell_type": "markdown",
   "metadata": {},
   "source": [
    "## Markdown + notebooks"
   ]
  },
  {
   "cell_type": "code",
   "execution_count": null,
   "metadata": {},
   "outputs": [],
   "source": []
  }
 ],
 "metadata": {
  "kernelspec": {
   "display_name": "Python 3",
   "language": "python",
   "name": "python3"
  },
  "language_info": {
   "codemirror_mode": {
    "name": "ipython",
    "version": 3
   },
   "file_extension": ".py",
   "mimetype": "text/x-python",
   "name": "python",
   "nbconvert_exporter": "python",
   "pygments_lexer": "ipython3",
   "version": "3.7.9"
  },
  "widgets": {
   "application/vnd.jupyter.widget-state+json": {
    "state": {},
    "version_major": 2,
    "version_minor": 0
   }
  }
 },
 "nbformat": 4,
 "nbformat_minor": 4
}
